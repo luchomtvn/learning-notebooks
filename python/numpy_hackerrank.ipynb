{
 "cells": [
  {
   "cell_type": "code",
   "execution_count": null,
   "metadata": {},
   "outputs": [],
   "source": [
    "import numpy as np"
   ]
  },
  {
   "cell_type": "markdown",
   "metadata": {},
   "source": [
    "## Reshape and transposition"
   ]
  },
  {
   "cell_type": "code",
   "execution_count": 3,
   "metadata": {},
   "outputs": [
    {
     "name": "stdout",
     "output_type": "stream",
     "text": [
      "[[1 2]\n",
      " [2 3]]\n",
      "[1 2 2 3]\n"
     ]
    }
   ],
   "source": [
    "# Enter your code here. Read input from STDIN. Print output to STDOUT\n",
    "\n",
    "n, m = map(int, input().split())\n",
    "\n",
    "arr = []\n",
    "\n",
    "for i in range(n):\n",
    "    arr.append(list(map(int, input().split())))\n",
    "\n",
    "narr = np.array(arr)\n",
    "narr.reshape(n, m)\n",
    "print(narr.T)\n",
    "print(narr.flatten())\n"
   ]
  }
 ],
 "metadata": {
  "kernelspec": {
   "display_name": "Python 3.6.13 ('diplodatos-ayvd')",
   "language": "python",
   "name": "python3"
  },
  "language_info": {
   "codemirror_mode": {
    "name": "ipython",
    "version": 3
   },
   "file_extension": ".py",
   "mimetype": "text/x-python",
   "name": "python",
   "nbconvert_exporter": "python",
   "pygments_lexer": "ipython3",
   "version": "3.6.13"
  },
  "orig_nbformat": 4,
  "vscode": {
   "interpreter": {
    "hash": "b551d536235364103ea3791e20d686db12835d07dfe7252e027a34f2825d557e"
   }
  }
 },
 "nbformat": 4,
 "nbformat_minor": 2
}
