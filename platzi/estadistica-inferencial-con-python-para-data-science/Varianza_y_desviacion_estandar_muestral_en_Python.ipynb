{
  "nbformat": 4,
  "nbformat_minor": 0,
  "metadata": {
    "colab": {
      "provenance": []
    },
    "kernelspec": {
      "name": "python3",
      "display_name": "Python 3"
    },
    "language_info": {
      "name": "python"
    }
  },
  "cells": [
    {
      "cell_type": "markdown",
      "source": [
        "### Importamos las librerias necesarias para el analisis"
      ],
      "metadata": {
        "id": "dS5AB_v1pLoL"
      }
    },
    {
      "cell_type": "code",
      "execution_count": null,
      "metadata": {
        "id": "zE97ir8Bnapp"
      },
      "outputs": [],
      "source": [
        "import pandas as pd\n",
        "import numpy as np\n",
        "import matplotlib.pyplot as plt\n",
        "import seaborn as sns"
      ]
    },
    {
      "cell_type": "markdown",
      "source": [
        "### Leemos la base de datos a trabajar en nuestra ruta de origen"
      ],
      "metadata": {
        "id": "oT_tXM5SpTuz"
      }
    },
    {
      "cell_type": "code",
      "source": [
        "url = 'https://archive.ics.uci.edu/ml/machine-learning-databases/iris/iris.data'\n",
        "names = ['sepal-length', 'spal-width', 'petal-length', 'petal-width', 'class']\n",
        "iris = pd.read_csv(url, names = names)"
      ],
      "metadata": {
        "id": "S1ILzLT1pSKs"
      },
      "execution_count": null,
      "outputs": []
    },
    {
      "cell_type": "code",
      "source": [
        "iris.head()"
      ],
      "metadata": {
        "colab": {
          "base_uri": "https://localhost:8080/",
          "height": 206
        },
        "id": "YL_E6zy7p9td",
        "outputId": "9492319f-b3ea-4e91-fc81-36a2d7d87f21"
      },
      "execution_count": null,
      "outputs": [
        {
          "output_type": "execute_result",
          "data": {
            "text/plain": [
              "   sepal-length  spal-width  petal-length  petal-width        class\n",
              "0           5.1         3.5           1.4          0.2  Iris-setosa\n",
              "1           4.9         3.0           1.4          0.2  Iris-setosa\n",
              "2           4.7         3.2           1.3          0.2  Iris-setosa\n",
              "3           4.6         3.1           1.5          0.2  Iris-setosa\n",
              "4           5.0         3.6           1.4          0.2  Iris-setosa"
            ],
            "text/html": [
              "\n",
              "  <div id=\"df-9c6a153d-fd58-4a06-810f-fc347984b415\">\n",
              "    <div class=\"colab-df-container\">\n",
              "      <div>\n",
              "<style scoped>\n",
              "    .dataframe tbody tr th:only-of-type {\n",
              "        vertical-align: middle;\n",
              "    }\n",
              "\n",
              "    .dataframe tbody tr th {\n",
              "        vertical-align: top;\n",
              "    }\n",
              "\n",
              "    .dataframe thead th {\n",
              "        text-align: right;\n",
              "    }\n",
              "</style>\n",
              "<table border=\"1\" class=\"dataframe\">\n",
              "  <thead>\n",
              "    <tr style=\"text-align: right;\">\n",
              "      <th></th>\n",
              "      <th>sepal-length</th>\n",
              "      <th>spal-width</th>\n",
              "      <th>petal-length</th>\n",
              "      <th>petal-width</th>\n",
              "      <th>class</th>\n",
              "    </tr>\n",
              "  </thead>\n",
              "  <tbody>\n",
              "    <tr>\n",
              "      <th>0</th>\n",
              "      <td>5.1</td>\n",
              "      <td>3.5</td>\n",
              "      <td>1.4</td>\n",
              "      <td>0.2</td>\n",
              "      <td>Iris-setosa</td>\n",
              "    </tr>\n",
              "    <tr>\n",
              "      <th>1</th>\n",
              "      <td>4.9</td>\n",
              "      <td>3.0</td>\n",
              "      <td>1.4</td>\n",
              "      <td>0.2</td>\n",
              "      <td>Iris-setosa</td>\n",
              "    </tr>\n",
              "    <tr>\n",
              "      <th>2</th>\n",
              "      <td>4.7</td>\n",
              "      <td>3.2</td>\n",
              "      <td>1.3</td>\n",
              "      <td>0.2</td>\n",
              "      <td>Iris-setosa</td>\n",
              "    </tr>\n",
              "    <tr>\n",
              "      <th>3</th>\n",
              "      <td>4.6</td>\n",
              "      <td>3.1</td>\n",
              "      <td>1.5</td>\n",
              "      <td>0.2</td>\n",
              "      <td>Iris-setosa</td>\n",
              "    </tr>\n",
              "    <tr>\n",
              "      <th>4</th>\n",
              "      <td>5.0</td>\n",
              "      <td>3.6</td>\n",
              "      <td>1.4</td>\n",
              "      <td>0.2</td>\n",
              "      <td>Iris-setosa</td>\n",
              "    </tr>\n",
              "  </tbody>\n",
              "</table>\n",
              "</div>\n",
              "      <button class=\"colab-df-convert\" onclick=\"convertToInteractive('df-9c6a153d-fd58-4a06-810f-fc347984b415')\"\n",
              "              title=\"Convert this dataframe to an interactive table.\"\n",
              "              style=\"display:none;\">\n",
              "        \n",
              "  <svg xmlns=\"http://www.w3.org/2000/svg\" height=\"24px\"viewBox=\"0 0 24 24\"\n",
              "       width=\"24px\">\n",
              "    <path d=\"M0 0h24v24H0V0z\" fill=\"none\"/>\n",
              "    <path d=\"M18.56 5.44l.94 2.06.94-2.06 2.06-.94-2.06-.94-.94-2.06-.94 2.06-2.06.94zm-11 1L8.5 8.5l.94-2.06 2.06-.94-2.06-.94L8.5 2.5l-.94 2.06-2.06.94zm10 10l.94 2.06.94-2.06 2.06-.94-2.06-.94-.94-2.06-.94 2.06-2.06.94z\"/><path d=\"M17.41 7.96l-1.37-1.37c-.4-.4-.92-.59-1.43-.59-.52 0-1.04.2-1.43.59L10.3 9.45l-7.72 7.72c-.78.78-.78 2.05 0 2.83L4 21.41c.39.39.9.59 1.41.59.51 0 1.02-.2 1.41-.59l7.78-7.78 2.81-2.81c.8-.78.8-2.07 0-2.86zM5.41 20L4 18.59l7.72-7.72 1.47 1.35L5.41 20z\"/>\n",
              "  </svg>\n",
              "      </button>\n",
              "      \n",
              "  <style>\n",
              "    .colab-df-container {\n",
              "      display:flex;\n",
              "      flex-wrap:wrap;\n",
              "      gap: 12px;\n",
              "    }\n",
              "\n",
              "    .colab-df-convert {\n",
              "      background-color: #E8F0FE;\n",
              "      border: none;\n",
              "      border-radius: 50%;\n",
              "      cursor: pointer;\n",
              "      display: none;\n",
              "      fill: #1967D2;\n",
              "      height: 32px;\n",
              "      padding: 0 0 0 0;\n",
              "      width: 32px;\n",
              "    }\n",
              "\n",
              "    .colab-df-convert:hover {\n",
              "      background-color: #E2EBFA;\n",
              "      box-shadow: 0px 1px 2px rgba(60, 64, 67, 0.3), 0px 1px 3px 1px rgba(60, 64, 67, 0.15);\n",
              "      fill: #174EA6;\n",
              "    }\n",
              "\n",
              "    [theme=dark] .colab-df-convert {\n",
              "      background-color: #3B4455;\n",
              "      fill: #D2E3FC;\n",
              "    }\n",
              "\n",
              "    [theme=dark] .colab-df-convert:hover {\n",
              "      background-color: #434B5C;\n",
              "      box-shadow: 0px 1px 3px 1px rgba(0, 0, 0, 0.15);\n",
              "      filter: drop-shadow(0px 1px 2px rgba(0, 0, 0, 0.3));\n",
              "      fill: #FFFFFF;\n",
              "    }\n",
              "  </style>\n",
              "\n",
              "      <script>\n",
              "        const buttonEl =\n",
              "          document.querySelector('#df-9c6a153d-fd58-4a06-810f-fc347984b415 button.colab-df-convert');\n",
              "        buttonEl.style.display =\n",
              "          google.colab.kernel.accessAllowed ? 'block' : 'none';\n",
              "\n",
              "        async function convertToInteractive(key) {\n",
              "          const element = document.querySelector('#df-9c6a153d-fd58-4a06-810f-fc347984b415');\n",
              "          const dataTable =\n",
              "            await google.colab.kernel.invokeFunction('convertToInteractive',\n",
              "                                                     [key], {});\n",
              "          if (!dataTable) return;\n",
              "\n",
              "          const docLinkHtml = 'Like what you see? Visit the ' +\n",
              "            '<a target=\"_blank\" href=https://colab.research.google.com/notebooks/data_table.ipynb>data table notebook</a>'\n",
              "            + ' to learn more about interactive tables.';\n",
              "          element.innerHTML = '';\n",
              "          dataTable['output_type'] = 'display_data';\n",
              "          await google.colab.output.renderOutput(dataTable, element);\n",
              "          const docLink = document.createElement('div');\n",
              "          docLink.innerHTML = docLinkHtml;\n",
              "          element.appendChild(docLink);\n",
              "        }\n",
              "      </script>\n",
              "    </div>\n",
              "  </div>\n",
              "  "
            ]
          },
          "metadata": {},
          "execution_count": 4
        }
      ]
    },
    {
      "cell_type": "code",
      "source": [
        "plt.hist(iris['sepal-length'], color='orange', bins= int(180/5))\n",
        "plt.show()"
      ],
      "metadata": {
        "colab": {
          "base_uri": "https://localhost:8080/",
          "height": 265
        },
        "id": "TXDp8MJ_qRqj",
        "outputId": "b4883e98-6df4-4ff8-b5f3-0c8c6858d75e"
      },
      "execution_count": null,
      "outputs": [
        {
          "output_type": "display_data",
          "data": {
            "text/plain": [
              "<Figure size 432x288 with 1 Axes>"
            ],
            "image/png": "[encoded data removed]"
          },
          "metadata": {
            "needs_background": "light"
          }
        }
      ]
    },
    {
      "cell_type": "code",
      "source": [
        "sns.distplot(iris['sepal-length'], hist=True, kde=True, bins=int(185/5), color='orange')\n",
        "plt.show()"
      ],
      "metadata": {
        "colab": {
          "base_uri": "https://localhost:8080/",
          "height": 334
        },
        "id": "R4-wtqj7qyvK",
        "outputId": "0a54ae85-e6ac-433f-a44f-362dcbc51522"
      },
      "execution_count": null,
      "outputs": [
        {
          "output_type": "stream",
          "name": "stderr",
          "text": [
            "/usr/local/lib/python3.7/dist-packages/seaborn/distributions.py:2619: FutureWarning: `distplot` is a deprecated function and will be removed in a future version. Please adapt your code to use either `displot` (a figure-level function with similar flexibility) or `histplot` (an axes-level function for histograms).\n",
            "  warnings.warn(msg, FutureWarning)\n"
          ]
        },
        {
          "output_type": "display_data",
          "data": {
            "text/plain": [
              "<Figure size 432x288 with 1 Axes>"
            ],
            "image/png": "[encoded data removed]"
          },
          "metadata": {
            "needs_background": "light"
          }
        }
      ]
    },
    {
      "cell_type": "markdown",
      "source": [
        "### Calculo de la varianza"
      ],
      "metadata": {
        "id": "9swljeSQrG6A"
      }
    },
    {
      "cell_type": "markdown",
      "source": [
        "![varianza.png](data:image/png;base64,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)"
      ],
      "metadata": {
        "id": "30_VNF2yrqyC"
      }
    },
    {
      "cell_type": "code",
      "source": [
        "iris['sepal-length'].var()"
      ],
      "metadata": {
        "colab": {
          "base_uri": "https://localhost:8080/"
        },
        "id": "i6zr9A7Lrx2_",
        "outputId": "a1e976c7-1164-45c9-e6cb-42c65bb3e739"
      },
      "execution_count": null,
      "outputs": [
        {
          "output_type": "execute_result",
          "data": {
            "text/plain": [
              "0.6856935123042507"
            ]
          },
          "metadata": {},
          "execution_count": 10
        }
      ]
    },
    {
      "cell_type": "markdown",
      "source": [
        "### Calculo del desvio estandar\n",
        "\n"
      ],
      "metadata": {
        "id": "0sqHmJw-rua0"
      }
    },
    {
      "cell_type": "markdown",
      "source": [
        "![varianza2.png](data:image/png;base64,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)"
      ],
      "metadata": {
        "id": "pcyfXqi9rhbl"
      }
    },
    {
      "cell_type": "code",
      "source": [
        "iris['sepal-length'].std()"
      ],
      "metadata": {
        "colab": {
          "base_uri": "https://localhost:8080/"
        },
        "id": "DpH3-SGvq9KF",
        "outputId": "b258be76-19f7-492b-b29e-0612c8640ca5"
      },
      "execution_count": null,
      "outputs": [
        {
          "output_type": "execute_result",
          "data": {
            "text/plain": [
              "0.828066127977863"
            ]
          },
          "metadata": {},
          "execution_count": 11
        }
      ]
    },
    {
      "cell_type": "code",
      "source": [
        "iris['sepal-length'].mean()"
      ],
      "metadata": {
        "colab": {
          "base_uri": "https://localhost:8080/"
        },
        "id": "hnDUe8EVr3aS",
        "outputId": "e8850149-bb80-469b-bb6b-5f4bd5b104e5"
      },
      "execution_count": null,
      "outputs": [
        {
          "output_type": "execute_result",
          "data": {
            "text/plain": [
              "5.843333333333334"
            ]
          },
          "metadata": {},
          "execution_count": 12
        }
      ]
    },
    {
      "cell_type": "markdown",
      "source": [
        "### Creacion de una muestra mediante el muestreo aleatorio simple"
      ],
      "metadata": {
        "id": "-BxbdL_rsT1u"
      }
    },
    {
      "cell_type": "code",
      "source": [
        "muestra = iris.sample(frac=.5)\n",
        "muestra"
      ],
      "metadata": {
        "colab": {
          "base_uri": "https://localhost:8080/",
          "height": 424
        },
        "id": "vF2IJ61csD6m",
        "outputId": "4dc89b19-9149-45e2-8024-4010093ddc00"
      },
      "execution_count": null,
      "outputs": [
        {
          "output_type": "execute_result",
          "data": {
            "text/plain": [
              "     sepal-length  spal-width  petal-length  petal-width            class\n",
              "88            5.6         3.0           4.1          1.3  Iris-versicolor\n",
              "23            5.1         3.3           1.7          0.5      Iris-setosa\n",
              "52            6.9         3.1           4.9          1.5  Iris-versicolor\n",
              "14            5.8         4.0           1.2          0.2      Iris-setosa\n",
              "56            6.3         3.3           4.7          1.6  Iris-versicolor\n",
              "..            ...         ...           ...          ...              ...\n",
              "116           6.5         3.0           5.5          1.8   Iris-virginica\n",
              "129           7.2         3.0           5.8          1.6   Iris-virginica\n",
              "121           5.6         2.8           4.9          2.0   Iris-virginica\n",
              "106           4.9         2.5           4.5          1.7   Iris-virginica\n",
              "70            5.9         3.2           4.8          1.8  Iris-versicolor\n",
              "\n",
              "[75 rows x 5 columns]"
            ],
            "text/html": [
              "\n",
              "  <div id=\"df-141cbb77-6414-42d9-8e5c-d1aadd862bdb\">\n",
              "    <div class=\"colab-df-container\">\n",
              "      <div>\n",
              "<style scoped>\n",
              "    .dataframe tbody tr th:only-of-type {\n",
              "        vertical-align: middle;\n",
              "    }\n",
              "\n",
              "    .dataframe tbody tr th {\n",
              "        vertical-align: top;\n",
              "    }\n",
              "\n",
              "    .dataframe thead th {\n",
              "        text-align: right;\n",
              "    }\n",
              "</style>\n",
              "<table border=\"1\" class=\"dataframe\">\n",
              "  <thead>\n",
              "    <tr style=\"text-align: right;\">\n",
              "      <th></th>\n",
              "      <th>sepal-length</th>\n",
              "      <th>spal-width</th>\n",
              "      <th>petal-length</th>\n",
              "      <th>petal-width</th>\n",
              "      <th>class</th>\n",
              "    </tr>\n",
              "  </thead>\n",
              "  <tbody>\n",
              "    <tr>\n",
              "      <th>88</th>\n",
              "      <td>5.6</td>\n",
              "      <td>3.0</td>\n",
              "      <td>4.1</td>\n",
              "      <td>1.3</td>\n",
              "      <td>Iris-versicolor</td>\n",
              "    </tr>\n",
              "    <tr>\n",
              "      <th>23</th>\n",
              "      <td>5.1</td>\n",
              "      <td>3.3</td>\n",
              "      <td>1.7</td>\n",
              "      <td>0.5</td>\n",
              "      <td>Iris-setosa</td>\n",
              "    </tr>\n",
              "    <tr>\n",
              "      <th>52</th>\n",
              "      <td>6.9</td>\n",
              "      <td>3.1</td>\n",
              "      <td>4.9</td>\n",
              "      <td>1.5</td>\n",
              "      <td>Iris-versicolor</td>\n",
              "    </tr>\n",
              "    <tr>\n",
              "      <th>14</th>\n",
              "      <td>5.8</td>\n",
              "      <td>4.0</td>\n",
              "      <td>1.2</td>\n",
              "      <td>0.2</td>\n",
              "      <td>Iris-setosa</td>\n",
              "    </tr>\n",
              "    <tr>\n",
              "      <th>56</th>\n",
              "      <td>6.3</td>\n",
              "      <td>3.3</td>\n",
              "      <td>4.7</td>\n",
              "      <td>1.6</td>\n",
              "      <td>Iris-versicolor</td>\n",
              "    </tr>\n",
              "    <tr>\n",
              "      <th>...</th>\n",
              "      <td>...</td>\n",
              "      <td>...</td>\n",
              "      <td>...</td>\n",
              "      <td>...</td>\n",
              "      <td>...</td>\n",
              "    </tr>\n",
              "    <tr>\n",
              "      <th>116</th>\n",
              "      <td>6.5</td>\n",
              "      <td>3.0</td>\n",
              "      <td>5.5</td>\n",
              "      <td>1.8</td>\n",
              "      <td>Iris-virginica</td>\n",
              "    </tr>\n",
              "    <tr>\n",
              "      <th>129</th>\n",
              "      <td>7.2</td>\n",
              "      <td>3.0</td>\n",
              "      <td>5.8</td>\n",
              "      <td>1.6</td>\n",
              "      <td>Iris-virginica</td>\n",
              "    </tr>\n",
              "    <tr>\n",
              "      <th>121</th>\n",
              "      <td>5.6</td>\n",
              "      <td>2.8</td>\n",
              "      <td>4.9</td>\n",
              "      <td>2.0</td>\n",
              "      <td>Iris-virginica</td>\n",
              "    </tr>\n",
              "    <tr>\n",
              "      <th>106</th>\n",
              "      <td>4.9</td>\n",
              "      <td>2.5</td>\n",
              "      <td>4.5</td>\n",
              "      <td>1.7</td>\n",
              "      <td>Iris-virginica</td>\n",
              "    </tr>\n",
              "    <tr>\n",
              "      <th>70</th>\n",
              "      <td>5.9</td>\n",
              "      <td>3.2</td>\n",
              "      <td>4.8</td>\n",
              "      <td>1.8</td>\n",
              "      <td>Iris-versicolor</td>\n",
              "    </tr>\n",
              "  </tbody>\n",
              "</table>\n",
              "<p>75 rows × 5 columns</p>\n",
              "</div>\n",
              "      <button class=\"colab-df-convert\" onclick=\"convertToInteractive('df-141cbb77-6414-42d9-8e5c-d1aadd862bdb')\"\n",
              "              title=\"Convert this dataframe to an interactive table.\"\n",
              "              style=\"display:none;\">\n",
              "        \n",
              "  <svg xmlns=\"http://www.w3.org/2000/svg\" height=\"24px\"viewBox=\"0 0 24 24\"\n",
              "       width=\"24px\">\n",
              "    <path d=\"M0 0h24v24H0V0z\" fill=\"none\"/>\n",
              "    <path d=\"M18.56 5.44l.94 2.06.94-2.06 2.06-.94-2.06-.94-.94-2.06-.94 2.06-2.06.94zm-11 1L8.5 8.5l.94-2.06 2.06-.94-2.06-.94L8.5 2.5l-.94 2.06-2.06.94zm10 10l.94 2.06.94-2.06 2.06-.94-2.06-.94-.94-2.06-.94 2.06-2.06.94z\"/><path d=\"M17.41 7.96l-1.37-1.37c-.4-.4-.92-.59-1.43-.59-.52 0-1.04.2-1.43.59L10.3 9.45l-7.72 7.72c-.78.78-.78 2.05 0 2.83L4 21.41c.39.39.9.59 1.41.59.51 0 1.02-.2 1.41-.59l7.78-7.78 2.81-2.81c.8-.78.8-2.07 0-2.86zM5.41 20L4 18.59l7.72-7.72 1.47 1.35L5.41 20z\"/>\n",
              "  </svg>\n",
              "      </button>\n",
              "      \n",
              "  <style>\n",
              "    .colab-df-container {\n",
              "      display:flex;\n",
              "      flex-wrap:wrap;\n",
              "      gap: 12px;\n",
              "    }\n",
              "\n",
              "    .colab-df-convert {\n",
              "      background-color: #E8F0FE;\n",
              "      border: none;\n",
              "      border-radius: 50%;\n",
              "      cursor: pointer;\n",
              "      display: none;\n",
              "      fill: #1967D2;\n",
              "      height: 32px;\n",
              "      padding: 0 0 0 0;\n",
              "      width: 32px;\n",
              "    }\n",
              "\n",
              "    .colab-df-convert:hover {\n",
              "      background-color: #E2EBFA;\n",
              "      box-shadow: 0px 1px 2px rgba(60, 64, 67, 0.3), 0px 1px 3px 1px rgba(60, 64, 67, 0.15);\n",
              "      fill: #174EA6;\n",
              "    }\n",
              "\n",
              "    [theme=dark] .colab-df-convert {\n",
              "      background-color: #3B4455;\n",
              "      fill: #D2E3FC;\n",
              "    }\n",
              "\n",
              "    [theme=dark] .colab-df-convert:hover {\n",
              "      background-color: #434B5C;\n",
              "      box-shadow: 0px 1px 3px 1px rgba(0, 0, 0, 0.15);\n",
              "      filter: drop-shadow(0px 1px 2px rgba(0, 0, 0, 0.3));\n",
              "      fill: #FFFFFF;\n",
              "    }\n",
              "  </style>\n",
              "\n",
              "      <script>\n",
              "        const buttonEl =\n",
              "          document.querySelector('#df-141cbb77-6414-42d9-8e5c-d1aadd862bdb button.colab-df-convert');\n",
              "        buttonEl.style.display =\n",
              "          google.colab.kernel.accessAllowed ? 'block' : 'none';\n",
              "\n",
              "        async function convertToInteractive(key) {\n",
              "          const element = document.querySelector('#df-141cbb77-6414-42d9-8e5c-d1aadd862bdb');\n",
              "          const dataTable =\n",
              "            await google.colab.kernel.invokeFunction('convertToInteractive',\n",
              "                                                     [key], {});\n",
              "          if (!dataTable) return;\n",
              "\n",
              "          const docLinkHtml = 'Like what you see? Visit the ' +\n",
              "            '<a target=\"_blank\" href=https://colab.research.google.com/notebooks/data_table.ipynb>data table notebook</a>'\n",
              "            + ' to learn more about interactive tables.';\n",
              "          element.innerHTML = '';\n",
              "          dataTable['output_type'] = 'display_data';\n",
              "          await google.colab.output.renderOutput(dataTable, element);\n",
              "          const docLink = document.createElement('div');\n",
              "          docLink.innerHTML = docLinkHtml;\n",
              "          element.appendChild(docLink);\n",
              "        }\n",
              "      </script>\n",
              "    </div>\n",
              "  </div>\n",
              "  "
            ]
          },
          "metadata": {},
          "execution_count": 20
        }
      ]
    },
    {
      "cell_type": "code",
      "source": [
        "muestra['sepal-length'].var()"
      ],
      "metadata": {
        "colab": {
          "base_uri": "https://localhost:8080/"
        },
        "id": "0e27NwtVsb7Q",
        "outputId": "80dec01c-b2a0-4a50-aee4-5ae6a22e32f2"
      },
      "execution_count": null,
      "outputs": [
        {
          "output_type": "execute_result",
          "data": {
            "text/plain": [
              "0.6963495495495496"
            ]
          },
          "metadata": {},
          "execution_count": 18
        }
      ]
    },
    {
      "cell_type": "code",
      "source": [
        "muestra['sepal-length'].std()"
      ],
      "metadata": {
        "colab": {
          "base_uri": "https://localhost:8080/"
        },
        "id": "BL2qi8KusiHB",
        "outputId": "343c6562-48d4-4788-c41b-2e628da8ec34"
      },
      "execution_count": null,
      "outputs": [
        {
          "output_type": "execute_result",
          "data": {
            "text/plain": [
              "0.8344756135139898"
            ]
          },
          "metadata": {},
          "execution_count": 19
        }
      ]
    },
    {
      "cell_type": "code",
      "source": [
        "muestra['sepal-length'].mean()"
      ],
      "metadata": {
        "colab": {
          "base_uri": "https://localhost:8080/"
        },
        "id": "L1Pa37d4sx-Z",
        "outputId": "9e28bbb0-6ad0-47a4-914f-507ddb5d17ae"
      },
      "execution_count": null,
      "outputs": [
        {
          "output_type": "execute_result",
          "data": {
            "text/plain": [
              "5.838666666666667"
            ]
          },
          "metadata": {},
          "execution_count": 21
        }
      ]
    },
    {
      "cell_type": "markdown",
      "source": [
        "Un valor cercano a uno es una desviacion y una varianza elevada. Si el valor promedio es mas elevado en la muestra, le vamos a permitir que la varianza y la desviacion estandar sean mas elevadas. De lo contrario, siendo mas bajas, ya significa que es un valor significativo y que tenemos una varianza considerable. "
      ],
      "metadata": {
        "id": "RnE7TM_WtGJp"
      }
    },
    {
      "cell_type": "code",
      "source": [],
      "metadata": {
        "id": "f3LLd1Hbs7ix"
      },
      "execution_count": null,
      "outputs": []
    }
  ]
}